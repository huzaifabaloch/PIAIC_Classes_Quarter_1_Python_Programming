{
 "cells": [
  {
   "cell_type": "code",
   "execution_count": 1,
   "metadata": {},
   "outputs": [],
   "source": [
    "# CLASS DEFINITION\n",
    "# Self is used to give reference to each object individually.\n",
    "class Man():\n",
    "    def __init__(self, name, fname, qualification):\n",
    "        self.name = name # attributes / properties\n",
    "        self.fname = fname  # attributes / properties\n",
    "        self.qualification = qualification  # attributes / properties\n",
    "    \n",
    "    def sleeping(self, snooring=\"Khahahahaha!\"):   # methods\n",
    "        print(snooring)\n",
    "        \n",
    "    def eating(self, bread=\"Roti\"):  # methods\n",
    "        print(bread)\n",
    "        \n",
    "    def walking(self, speed=\"20KM/H\"):  # methods\n",
    "        print(speed)\n",
    "        "
   ]
  },
  {
   "cell_type": "code",
   "execution_count": 2,
   "metadata": {},
   "outputs": [],
   "source": [
    "# Creating object of classes.\n",
    "obj1 = Man(\"Huzaifa\", \"Shakeel Ahmed\", \"Pre-Eng\")\n",
    "obj2 = Man(\"Sahal\", \"Sohail Rind\", \"Pre-Eng\")\n",
    "obj3 = Man(\"Bilal\", \"Iqbal\", \"Pre-Eng\")"
   ]
  },
  {
   "cell_type": "code",
   "execution_count": 3,
   "metadata": {},
   "outputs": [
    {
     "name": "stdout",
     "output_type": "stream",
     "text": [
      "Huzaifa\n",
      "Sahal\n",
      "Bilal\n"
     ]
    }
   ],
   "source": [
    "print(obj1.name)\n",
    "print(obj2.name)\n",
    "print(obj3.name)"
   ]
  },
  {
   "cell_type": "code",
   "execution_count": 4,
   "metadata": {},
   "outputs": [],
   "source": [
    "# TASK\n",
    "class Country():\n",
    "    def __init__(self, name, population, developed):\n",
    "        self.name = name\n",
    "        self.population = population\n",
    "        self.developed = developed\n",
    "        \n",
    "    def show_country_details(self):\n",
    "        print(\"{} has a population of {}\".format(self.name, self.population))\n",
    "        \n",
    "    def country_flag_rank(self, name, rank):\n",
    "        print(\"{} flag is ranked {} worldwide\".format(self.name, rank))\n",
    "        "
   ]
  },
  {
   "cell_type": "code",
   "execution_count": 5,
   "metadata": {},
   "outputs": [],
   "source": [
    "# Creating objects\n",
    "obj1 = Country(\"Pakistan\", 22220221, False)\n",
    "obj2 = Country(\"India\", 140400302, False)"
   ]
  },
  {
   "cell_type": "code",
   "execution_count": 7,
   "metadata": {},
   "outputs": [
    {
     "name": "stdout",
     "output_type": "stream",
     "text": [
      "Pakistan\n",
      "India\n"
     ]
    }
   ],
   "source": [
    "print(obj1.name)\n",
    "print(obj2.name)"
   ]
  },
  {
   "cell_type": "code",
   "execution_count": 9,
   "metadata": {},
   "outputs": [
    {
     "name": "stdout",
     "output_type": "stream",
     "text": [
      "Pakistan has a population of 22220221\n",
      "India has a population of 140400302\n"
     ]
    }
   ],
   "source": [
    "obj1.show_country_details()\n",
    "obj2.show_country_details()"
   ]
  },
  {
   "cell_type": "code",
   "execution_count": 11,
   "metadata": {},
   "outputs": [
    {
     "name": "stdout",
     "output_type": "stream",
     "text": [
      "Pakistan flag is ranked 5 worldwide\n",
      "India flag is ranked 8 worldwide\n"
     ]
    }
   ],
   "source": [
    "obj1.country_flag_rank(\"Pakistan\", 5)\n",
    "obj2.country_flag_rank(\"India\", 8)"
   ]
  },
  {
   "cell_type": "code",
   "execution_count": 12,
   "metadata": {},
   "outputs": [],
   "source": [
    "# INHERITANCE\n",
    "class Baba(Man):\n",
    "    pass  # it will not produce any error."
   ]
  },
  {
   "cell_type": "code",
   "execution_count": 13,
   "metadata": {},
   "outputs": [],
   "source": [
    "obj4 = Baba(\"Ali\", \"Kerim\", \"Kin\")"
   ]
  },
  {
   "cell_type": "code",
   "execution_count": 14,
   "metadata": {},
   "outputs": [
    {
     "name": "stdout",
     "output_type": "stream",
     "text": [
      "Roti\n"
     ]
    }
   ],
   "source": [
    "obj4.eating()"
   ]
  },
  {
   "cell_type": "code",
   "execution_count": 24,
   "metadata": {},
   "outputs": [],
   "source": [
    "# TASK\n",
    "class Male():\n",
    "    def __init__(self, name, fname):\n",
    "        self.name = name\n",
    "        self.fname = fname\n",
    "        \n",
    "    def speaking(self):\n",
    "        print(\"I am male.\")\n",
    "        \n",
    "    def making_noise(self):\n",
    "        print(\"I have anger.\")"
   ]
  },
  {
   "cell_type": "code",
   "execution_count": 22,
   "metadata": {},
   "outputs": [],
   "source": [
    "class Female():\n",
    "    def __init__(self, name, fname):\n",
    "        self.name = name\n",
    "        self.fname = fname\n",
    "        \n",
    "    def speaking(self):\n",
    "        print(\"I am female.\")\n",
    "    \n",
    "    def cook(self):\n",
    "        print(\"I cook food.\")"
   ]
  },
  {
   "cell_type": "code",
   "execution_count": 30,
   "metadata": {},
   "outputs": [],
   "source": [
    "# class Baba( Female,Male):\n",
    "#     pass\n"
   ]
  },
  {
   "cell_type": "code",
   "execution_count": 33,
   "metadata": {},
   "outputs": [
    {
     "name": "stdout",
     "output_type": "stream",
     "text": [
      "I am male.\n"
     ]
    }
   ],
   "source": [
    "obj7 = Male(\"Peter\", \"John\")\n",
    "obj7.speaking()\n"
   ]
  },
  {
   "cell_type": "code",
   "execution_count": null,
   "metadata": {},
   "outputs": [],
   "source": [
    "# All the attributes of class are defined in the constructor."
   ]
  },
  {
   "cell_type": "code",
   "execution_count": 34,
   "metadata": {},
   "outputs": [],
   "source": [
    "class Dog():\n",
    "    \n",
    "    counter = 0    # class variable"
   ]
  },
  {
   "cell_type": "code",
   "execution_count": 36,
   "metadata": {},
   "outputs": [
    {
     "data": {
      "text/plain": [
       "0"
      ]
     },
     "execution_count": 36,
     "metadata": {},
     "output_type": "execute_result"
    }
   ],
   "source": [
    "# to call a class variable.\n",
    "Dog.counter"
   ]
  },
  {
   "cell_type": "code",
   "execution_count": 37,
   "metadata": {},
   "outputs": [],
   "source": [
    "# we can also use - this - keyword in place of self. python allows."
   ]
  },
  {
   "cell_type": "code",
   "execution_count": 38,
   "metadata": {},
   "outputs": [],
   "source": [
    "# POLYMORPHISM\n",
    "# poly = many and morphism = forms\n",
    "# it contain two main concepts 1. method overriding      2. method overloading -> but not present in python ,we can \n",
    "# do it by trick."
   ]
  },
  {
   "cell_type": "code",
   "execution_count": 42,
   "metadata": {},
   "outputs": [
    {
     "data": {
      "text/plain": [
       "str"
      ]
     },
     "execution_count": 42,
     "metadata": {},
     "output_type": "execute_result"
    }
   ],
   "source": [
    "type(\"hello\")"
   ]
  },
  {
   "cell_type": "code",
   "execution_count": 45,
   "metadata": {},
   "outputs": [],
   "source": [
    "# ENCAPSULATION - data hiding\n",
    "# to make data private - we use  __atrribute_name\n",
    "# and access helped by getter and setter methods."
   ]
  },
  {
   "cell_type": "code",
   "execution_count": 89,
   "metadata": {},
   "outputs": [],
   "source": [
    "# Task\n",
    "class Admin():\n",
    "    def __init__(self, user_id, user_name, password):\n",
    "        self.__user_id = user_id\n",
    "        self.user_name = user_name\n",
    "        self.__password = password\n",
    "        \n",
    "    def login(self, user_name, password):\n",
    "        if self.user_name == user_name and self.__password == password:\n",
    "            print(\"Login Success!\")\n",
    "        else:\n",
    "            print(\"Invalid ID or password!\")\n",
    "        \n",
    "    def forget(self, user_name):\n",
    "        if self.user_name == user_name:\n",
    "            self.__password = input(\"Enter new password: \")\n",
    "            print(\"Password reset success!\")\n",
    "        else:\n",
    "            print(\"Something went wrong!\")\n",
    "            \n",
    "        \n",
    "    "
   ]
  },
  {
   "cell_type": "code",
   "execution_count": 90,
   "metadata": {},
   "outputs": [
    {
     "name": "stdout",
     "output_type": "stream",
     "text": [
      "Login Success!\n"
     ]
    }
   ],
   "source": [
    "obj10 = Admin(150, \"Huzaifa\", \"abc123\")\n",
    "obj10.login(\"Huzaifa\", \"abc123\")"
   ]
  },
  {
   "cell_type": "code",
   "execution_count": 95,
   "metadata": {},
   "outputs": [
    {
     "name": "stdout",
     "output_type": "stream",
     "text": [
      "Enter new passwordhello123\n",
      "Password reset success!\n",
      "Login Success!\n"
     ]
    }
   ],
   "source": [
    "obj10.forget(\"Huzaifa\")\n",
    "obj10.login(\"Huzaifa\", \"hello123\")"
   ]
  },
  {
   "cell_type": "code",
   "execution_count": 62,
   "metadata": {},
   "outputs": [],
   "source": [
    "from abc import ABC, abstractmethod\n",
    "\n",
    "# ABSTRACTION\n",
    "# it is an incomplete class.\n",
    "# you cannot make instance of abstract class direclty, instead creation of child class and instance is mandotory.\n",
    "class Human(ABC):\n",
    "    # @ -> decorator\n",
    "    # trick to make it a abstract class, because be default this is a complete class.\n",
    "    @abstractmethod\n",
    "    def __init__(self, name, fname):\n",
    "        self.name = None\n",
    "        self.fname = None\n",
    "    \n",
    "    def display(self, name, age):\n",
    "        self.name = name\n",
    "        self.age = age\n",
    "   \n",
    "        \n",
    "    "
   ]
  },
  {
   "cell_type": "code",
   "execution_count": 82,
   "metadata": {},
   "outputs": [],
   "source": [
    "# TASK\n",
    "from abc import ABC, abstractmethod\n",
    "class Animal(ABC):\n",
    "    @abstractmethod\n",
    "    def __init__(self, name, typeof):\n",
    "        self.name = None\n",
    "        self.typeof = None\n",
    "        \n",
    "    def display(self, name, typeof):\n",
    "        self.name = name\n",
    "        self.typeof = typeof\n",
    "        return \"Animal is {} of type {}.\".format(self.name, self.typeof)\n",
    "    \n",
    "    \n",
    "\n",
    "class Human(ABC):\n",
    "    @abstractmethod\n",
    "    def __init__(self, name, age):\n",
    "        self.name = None\n",
    "        self.age = None\n",
    "        \n",
    "    def display(self, name, age):\n",
    "        self.name = name\n",
    "        self.age = age\n",
    "        return \"Person is {} whose age is {}.\".format(self.name, self.age)\n",
    "    \n",
    "\n",
    "class Female(Animal, Human):\n",
    "    def __init__(self, name, age):\n",
    "        self.name = name\n",
    "        self.age = age\n",
    "\n",
    "    "
   ]
  },
  {
   "cell_type": "code",
   "execution_count": 83,
   "metadata": {},
   "outputs": [
    {
     "ename": "TypeError",
     "evalue": "Can't instantiate abstract class Animal with abstract methods __init__",
     "output_type": "error",
     "traceback": [
      "\u001b[1;31m---------------------------------------------------------------------------\u001b[0m",
      "\u001b[1;31mTypeError\u001b[0m                                 Traceback (most recent call last)",
      "\u001b[1;32m<ipython-input-83-6f51fb8e0c29>\u001b[0m in \u001b[0;36m<module>\u001b[1;34m\u001b[0m\n\u001b[1;32m----> 1\u001b[1;33m \u001b[0minst_1\u001b[0m \u001b[1;33m=\u001b[0m \u001b[0mAnimal\u001b[0m\u001b[1;33m(\u001b[0m\u001b[1;34m\"Tiger\"\u001b[0m\u001b[1;33m,\u001b[0m \u001b[1;34m\"Wild\"\u001b[0m\u001b[1;33m)\u001b[0m\u001b[1;33m\u001b[0m\u001b[1;33m\u001b[0m\u001b[0m\n\u001b[0m",
      "\u001b[1;31mTypeError\u001b[0m: Can't instantiate abstract class Animal with abstract methods __init__"
     ]
    }
   ],
   "source": [
    "inst_1 = Animal(\"Tiger\", \"Wild\")"
   ]
  },
  {
   "cell_type": "code",
   "execution_count": 84,
   "metadata": {},
   "outputs": [
    {
     "ename": "TypeError",
     "evalue": "Can't instantiate abstract class Human with abstract methods __init__",
     "output_type": "error",
     "traceback": [
      "\u001b[1;31m---------------------------------------------------------------------------\u001b[0m",
      "\u001b[1;31mTypeError\u001b[0m                                 Traceback (most recent call last)",
      "\u001b[1;32m<ipython-input-84-ab61d88bb7e1>\u001b[0m in \u001b[0;36m<module>\u001b[1;34m\u001b[0m\n\u001b[1;32m----> 1\u001b[1;33m \u001b[0minst_2\u001b[0m \u001b[1;33m=\u001b[0m \u001b[0mHuman\u001b[0m\u001b[1;33m(\u001b[0m\u001b[1;34m\"Huzaifa\"\u001b[0m\u001b[1;33m,\u001b[0m \u001b[1;36m20\u001b[0m\u001b[1;33m)\u001b[0m\u001b[1;33m\u001b[0m\u001b[1;33m\u001b[0m\u001b[0m\n\u001b[0m",
      "\u001b[1;31mTypeError\u001b[0m: Can't instantiate abstract class Human with abstract methods __init__"
     ]
    }
   ],
   "source": [
    "inst_2 = Human(\"Huzaifa\", 20)"
   ]
  },
  {
   "cell_type": "code",
   "execution_count": 85,
   "metadata": {},
   "outputs": [
    {
     "ename": "TypeError",
     "evalue": "Can't instantiate abstract class Female with abstract methods __init__",
     "output_type": "error",
     "traceback": [
      "\u001b[1;31m---------------------------------------------------------------------------\u001b[0m",
      "\u001b[1;31mTypeError\u001b[0m                                 Traceback (most recent call last)",
      "\u001b[1;32m<ipython-input-85-2333125f27cf>\u001b[0m in \u001b[0;36m<module>\u001b[1;34m\u001b[0m\n\u001b[1;32m----> 1\u001b[1;33m \u001b[0minst_3\u001b[0m \u001b[1;33m=\u001b[0m \u001b[0mFemale\u001b[0m\u001b[1;33m(\u001b[0m\u001b[1;33m)\u001b[0m\u001b[1;33m\u001b[0m\u001b[1;33m\u001b[0m\u001b[0m\n\u001b[0m",
      "\u001b[1;31mTypeError\u001b[0m: Can't instantiate abstract class Female with abstract methods __init__"
     ]
    }
   ],
   "source": [
    "inst_3 = Female()"
   ]
  },
  {
   "cell_type": "code",
   "execution_count": null,
   "metadata": {},
   "outputs": [],
   "source": [
    "class Cat():\n",
    "    def __init__(self, name, color, category):\n",
    "        self.name = name\n",
    "        self.color = color\n",
    "        self.__category = category\n",
    "    \n",
    "    def walking(self):\n",
    "        print(\"The cat is walking\")\n",
    "        \n",
    "    def eating(self):\n",
    "        print(\"The cat is eating\")\n",
    "        \n",
    "    def jumping(self):\n",
    "        print(\"The cat is jumping\")"
   ]
  }
 ],
 "metadata": {
  "kernelspec": {
   "display_name": "Python 3",
   "language": "python",
   "name": "python3"
  },
  "language_info": {
   "codemirror_mode": {
    "name": "ipython",
    "version": 3
   },
   "file_extension": ".py",
   "mimetype": "text/x-python",
   "name": "python",
   "nbconvert_exporter": "python",
   "pygments_lexer": "ipython3",
   "version": "3.7.3"
  }
 },
 "nbformat": 4,
 "nbformat_minor": 2
}
